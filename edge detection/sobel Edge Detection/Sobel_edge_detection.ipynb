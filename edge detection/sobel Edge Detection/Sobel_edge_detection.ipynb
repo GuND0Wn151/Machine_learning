{
 "cells": [
  {
   "cell_type": "code",
   "execution_count": 2,
   "id": "eed8dfe0",
   "metadata": {},
   "outputs": [],
   "source": [
    "import cv2"
   ]
  },
  {
   "cell_type": "code",
   "execution_count": 3,
   "id": "d80fadcc",
   "metadata": {},
   "outputs": [],
   "source": [
    "data=cv2.imread('image.jpg')"
   ]
  },
  {
   "cell_type": "code",
   "execution_count": 7,
   "id": "068ac400",
   "metadata": {},
   "outputs": [],
   "source": [
    "data_grayscale=cv2.cvtColor(data,cv2.COLOR_BGR2GRAY)\n",
    "data_blur=cv2.GaussianBlur(data,(3,3),0)"
   ]
  },
  {
   "cell_type": "code",
   "execution_count": 8,
   "id": "72f0b466",
   "metadata": {},
   "outputs": [
    {
     "data": {
      "text/plain": [
       "True"
      ]
     },
     "execution_count": 8,
     "metadata": {},
     "output_type": "execute_result"
    }
   ],
   "source": [
    "cv2.imwrite(\"test.jpg\",data_blur)"
   ]
  },
  {
   "cell_type": "code",
   "execution_count": 15,
   "id": "de00e44b",
   "metadata": {},
   "outputs": [],
   "source": [
    "sobel_y = cv2.Sobel(src=data_blur, ddepth=cv2.CV_64F, dx=0, dy=2, ksize=5)\n",
    "sobel_x = cv2.Sobel(src=data_blur, ddepth=cv2.CV_64F, dx=2, dy=0, ksize=5)\n",
    "sobel_xy= cv2.Sobel(src=data_blur,ddepth=cv2.CV_64F,dx=1,dy=1,ksize=5)"
   ]
  },
  {
   "cell_type": "code",
   "execution_count": 16,
   "id": "8fc0c2c0",
   "metadata": {},
   "outputs": [
    {
     "data": {
      "text/plain": [
       "True"
      ]
     },
     "execution_count": 16,
     "metadata": {},
     "output_type": "execute_result"
    }
   ],
   "source": [
    "cv2.imwrite(\"sobelx.jpg\",sobel_x)\n",
    "cv2.imwrite(\"sobely.jpg\",sobel_y)\n",
    "cv2.imwrite(\"sobelxy.jpg\",sobel_xy)\n"
   ]
  },
  {
   "cell_type": "code",
   "execution_count": null,
   "id": "914ac694",
   "metadata": {},
   "outputs": [],
   "source": []
  }
 ],
 "metadata": {
  "kernelspec": {
   "display_name": "Python 3",
   "language": "python",
   "name": "python3"
  },
  "language_info": {
   "codemirror_mode": {
    "name": "ipython",
    "version": 3
   },
   "file_extension": ".py",
   "mimetype": "text/x-python",
   "name": "python",
   "nbconvert_exporter": "python",
   "pygments_lexer": "ipython3",
   "version": "3.8.8"
  }
 },
 "nbformat": 4,
 "nbformat_minor": 5
}
